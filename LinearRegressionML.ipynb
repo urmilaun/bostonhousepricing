#!/usr/bin/env python
# coding: utf-8

# In[9]:


import pandas as pd
import numpy as np
import matplotlib.pyplot as plt
get_ipython().run_line_magic('matplotlib', 'inline')


# In[10]:


from sklearn.datasets import load_boston


# In[11]:


boston=load_boston()


# In[12]:


boston.keys()


# In[13]:


print(boston.DESCR)


# In[14]:


print(boston.data)


# In[15]:


print(boston.target)


# In[16]:


print(boston.feature_names)


# In[17]:


dataset=pd.DataFrame(boston.data)


# In[18]:


dataset.head()


# In[19]:


dataset.tail()


# In[20]:


dataset=pd.DataFrame(boston.data,columns=boston.feature_names)


# In[21]:


dataset.head()


# In[22]:


dataset['price']=boston.target


# In[23]:


dataset.head()


# In[24]:


dataset.info()


# In[25]:


##summarizing the stats of the data 
dataset.describe()


# In[26]:


## check the missing value
dataset.isnull().sum()


# In[27]:


###Exploratory data analysis
## corerelation 
dataset.corr()


# In[28]:


import seaborn as sns
sns.pairplot(dataset)


# In[29]:


dataset.corr()


# In[31]:


plt.scatter(dataset['RM'],dataset['price'])
plt.xlabel("RM")
plt.xlabel("price")


# In[32]:


import seaborn as sns
sns.regplot(x="RM",y="price",data=dataset)


# In[33]:


sns.regplot(x="LSTAT",y="price",data=dataset)


# In[34]:


sns.regplot(x="CHAS",y="price",data=dataset)


# In[35]:


sns.regplot(x='PTRATIO',y="price",data=dataset)


# In[36]:


## Independent and dependent features
x=dataset.iloc[:,:-1]
y=dataset.iloc[:,-1]


# In[37]:


x.head()


# In[38]:


y


# In[39]:


##Train Test split
from sklearn.model_selection import train_test_split
x_train,x_test,y_train,y_test=train_test_split(x,y,test_size=0.3,random_state=42)


# In[40]:


x_train


# In[41]:


x_test


# In[42]:


##Standardize the dataset
from sklearn.preprocessing import StandardScaler
scaler=StandardScaler()


# In[43]:


x_train=scaler.fit_transform(x_train)


# In[44]:


x_test=scaler.transform(x_test)


# In[45]:


x_train


# In[46]:


x_test


# # Model Training

# In[48]:


from sklearn.linear_model import LinearRegression


# In[49]:


regression=LinearRegression()


# In[50]:


regression.fit(x_train,y_train)


# In[51]:


## print the coeffficients and the interrupt
print(regression.coef_)


# In[52]:


print(regression.intercept_)


# In[53]:


## on which parameters the model has been trained
regression.get_params()


# In[54]:


### prediction with test data
reg_pred=regression.predict(x_test)


# In[55]:


reg_pred


# # Assumptions

# In[56]:


### plot a scatter plot for prediction
plt.scatter(y_test,reg_pred)


# In[57]:


residuals=y_test-reg_pred


# In[58]:


residuals


# In[59]:


## plot with residuals
sns.displot(residuals,kind="kde")


# In[60]:


## scatter plot with respect to prediction and residuals
plt.scatter(reg_pred,residuals)


# In[61]:


from sklearn.metrics import mean_squared_error
from sklearn.metrics import mean_absolute_error

print(mean_absolute_error(y_test,reg_pred))
print(mean_squared_error(y_test,reg_pred))
print(np.sqrt(mean_squared_error(y_test,reg_pred)))


# # R square and adjusted R square

# In[63]:


from sklearn.metrics import r2_score
score=r2_score(y_test,reg_pred)
print(score)


# In[64]:


## dislplay adjusted r-squared
1-(1-score)*(len(y_test)-1)/(len(y_test)-x_test.shape[1]-1)


# # New Data Prediction

# In[67]:


boston.data[0].reshape(1,-1)


# In[70]:


## transformation of new data
scaler.transform(boston.data[0].reshape(1,-1))


# In[76]:


regression.predict(scaler.transform(boston.data[0].reshape(1,-1)))


# # Pickling the model file for deployment

# In[71]:


import pickle


# In[73]:


pickle.dump(regression,open('regmodel.pkl','wb'))


# In[74]:


pickled_model=pickle.load(open('regmodel.pkl','rb'))


# In[75]:


pickled_model.predict(scaler.transform(boston.data[0].reshape(1,-1)))


# In[ ]:





# In[ ]:





# In[ ]:





# In[ ]:





# In[ ]:




